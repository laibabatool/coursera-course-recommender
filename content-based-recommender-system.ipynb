{
 "cells": [
  {
   "cell_type": "code",
   "execution_count": 1,
   "metadata": {
    "execution": {
     "iopub.execute_input": "2023-08-29T15:37:52.434407Z",
     "iopub.status.busy": "2023-08-29T15:37:52.433172Z",
     "iopub.status.idle": "2023-08-29T15:37:54.120574Z",
     "shell.execute_reply": "2023-08-29T15:37:54.119416Z",
     "shell.execute_reply.started": "2023-08-29T15:37:52.434336Z"
    }
   },
   "outputs": [],
   "source": [
    "#importing libraries\n",
    "import numpy as np\n",
    "import pandas as pd\n",
    "from sklearn.metrics.pairwise import cosine_similarity\n",
    "from sklearn.metrics import mean_squared_error\n",
    "from sklearn.model_selection import train_test_split\n",
    "from sklearn.feature_extraction.text import TfidfVectorizer\n",
    "from sklearn.metrics.pairwise import linear_kernel"
   ]
  },
  {
   "cell_type": "code",
   "execution_count": 4,
   "metadata": {
    "execution": {
     "iopub.execute_input": "2023-08-29T15:41:59.468341Z",
     "iopub.status.busy": "2023-08-29T15:41:59.467913Z",
     "iopub.status.idle": "2023-08-29T15:41:59.581387Z",
     "shell.execute_reply": "2023-08-29T15:41:59.580105Z",
     "shell.execute_reply.started": "2023-08-29T15:41:59.468309Z"
    }
   },
   "outputs": [
    {
     "data": {
      "text/html": [
       "<div>\n",
       "<style scoped>\n",
       "    .dataframe tbody tr th:only-of-type {\n",
       "        vertical-align: middle;\n",
       "    }\n",
       "\n",
       "    .dataframe tbody tr th {\n",
       "        vertical-align: top;\n",
       "    }\n",
       "\n",
       "    .dataframe thead th {\n",
       "        text-align: right;\n",
       "    }\n",
       "</style>\n",
       "<table border=\"1\" class=\"dataframe\">\n",
       "  <thead>\n",
       "    <tr style=\"text-align: right;\">\n",
       "      <th></th>\n",
       "      <th>Course Name</th>\n",
       "      <th>University</th>\n",
       "      <th>Difficulty Level</th>\n",
       "      <th>Course Rating</th>\n",
       "      <th>Course URL</th>\n",
       "      <th>Course Description</th>\n",
       "      <th>Skills</th>\n",
       "    </tr>\n",
       "  </thead>\n",
       "  <tbody>\n",
       "    <tr>\n",
       "      <th>0</th>\n",
       "      <td>Write A Feature Length Screenplay For Film Or ...</td>\n",
       "      <td>Michigan State University</td>\n",
       "      <td>Beginner</td>\n",
       "      <td>4.8</td>\n",
       "      <td>https://www.coursera.org/learn/write-a-feature...</td>\n",
       "      <td>Write a Full Length Feature Film Script  In th...</td>\n",
       "      <td>Drama  Comedy  peering  screenwriting  film  D...</td>\n",
       "    </tr>\n",
       "    <tr>\n",
       "      <th>1</th>\n",
       "      <td>Business Strategy: Business Model Canvas Analy...</td>\n",
       "      <td>Coursera Project Network</td>\n",
       "      <td>Beginner</td>\n",
       "      <td>4.8</td>\n",
       "      <td>https://www.coursera.org/learn/canvas-analysis...</td>\n",
       "      <td>By the end of this guided project, you will be...</td>\n",
       "      <td>Finance  business plan  persona (user experien...</td>\n",
       "    </tr>\n",
       "    <tr>\n",
       "      <th>2</th>\n",
       "      <td>Silicon Thin Film Solar Cells</td>\n",
       "      <td>�cole Polytechnique</td>\n",
       "      <td>Advanced</td>\n",
       "      <td>4.1</td>\n",
       "      <td>https://www.coursera.org/learn/silicon-thin-fi...</td>\n",
       "      <td>This course consists of a general presentation...</td>\n",
       "      <td>chemistry  physics  Solar Energy  film  lambda...</td>\n",
       "    </tr>\n",
       "    <tr>\n",
       "      <th>3</th>\n",
       "      <td>Finance for Managers</td>\n",
       "      <td>IESE Business School</td>\n",
       "      <td>Intermediate</td>\n",
       "      <td>4.8</td>\n",
       "      <td>https://www.coursera.org/learn/operational-fin...</td>\n",
       "      <td>When it comes to numbers, there is always more...</td>\n",
       "      <td>accounts receivable  dupont analysis  analysis...</td>\n",
       "    </tr>\n",
       "    <tr>\n",
       "      <th>4</th>\n",
       "      <td>Retrieve Data using Single-Table SQL Queries</td>\n",
       "      <td>Coursera Project Network</td>\n",
       "      <td>Beginner</td>\n",
       "      <td>4.6</td>\n",
       "      <td>https://www.coursera.org/learn/single-table-sq...</td>\n",
       "      <td>In this course you�ll learn how to effectively...</td>\n",
       "      <td>Data Analysis  select (sql)  database manageme...</td>\n",
       "    </tr>\n",
       "  </tbody>\n",
       "</table>\n",
       "</div>"
      ],
      "text/plain": [
       "                                         Course Name  \\\n",
       "0  Write A Feature Length Screenplay For Film Or ...   \n",
       "1  Business Strategy: Business Model Canvas Analy...   \n",
       "2                      Silicon Thin Film Solar Cells   \n",
       "3                               Finance for Managers   \n",
       "4       Retrieve Data using Single-Table SQL Queries   \n",
       "\n",
       "                  University Difficulty Level Course Rating  \\\n",
       "0  Michigan State University         Beginner           4.8   \n",
       "1   Coursera Project Network         Beginner           4.8   \n",
       "2        �cole Polytechnique         Advanced           4.1   \n",
       "3       IESE Business School     Intermediate           4.8   \n",
       "4   Coursera Project Network         Beginner           4.6   \n",
       "\n",
       "                                          Course URL  \\\n",
       "0  https://www.coursera.org/learn/write-a-feature...   \n",
       "1  https://www.coursera.org/learn/canvas-analysis...   \n",
       "2  https://www.coursera.org/learn/silicon-thin-fi...   \n",
       "3  https://www.coursera.org/learn/operational-fin...   \n",
       "4  https://www.coursera.org/learn/single-table-sq...   \n",
       "\n",
       "                                  Course Description  \\\n",
       "0  Write a Full Length Feature Film Script  In th...   \n",
       "1  By the end of this guided project, you will be...   \n",
       "2  This course consists of a general presentation...   \n",
       "3  When it comes to numbers, there is always more...   \n",
       "4  In this course you�ll learn how to effectively...   \n",
       "\n",
       "                                              Skills  \n",
       "0  Drama  Comedy  peering  screenwriting  film  D...  \n",
       "1  Finance  business plan  persona (user experien...  \n",
       "2  chemistry  physics  Solar Energy  film  lambda...  \n",
       "3  accounts receivable  dupont analysis  analysis...  \n",
       "4  Data Analysis  select (sql)  database manageme...  "
      ]
     },
     "execution_count": 4,
     "metadata": {},
     "output_type": "execute_result"
    }
   ],
   "source": [
    "dataset = pd.read_csv('C:/Users/LAIBA/Downloads/Coursera.csv/Coursera.csv')\n",
    "dataset.head()"
   ]
  },
  {
   "cell_type": "code",
   "execution_count": 5,
   "metadata": {
    "execution": {
     "iopub.execute_input": "2023-08-29T15:42:19.602172Z",
     "iopub.status.busy": "2023-08-29T15:42:19.601649Z",
     "iopub.status.idle": "2023-08-29T15:42:19.640678Z",
     "shell.execute_reply": "2023-08-29T15:42:19.639598Z",
     "shell.execute_reply.started": "2023-08-29T15:42:19.602126Z"
    }
   },
   "outputs": [
    {
     "name": "stdout",
     "output_type": "stream",
     "text": [
      "<class 'pandas.core.frame.DataFrame'>\n",
      "RangeIndex: 3522 entries, 0 to 3521\n",
      "Data columns (total 7 columns):\n",
      " #   Column              Non-Null Count  Dtype \n",
      "---  ------              --------------  ----- \n",
      " 0   Course Name         3522 non-null   object\n",
      " 1   University          3522 non-null   object\n",
      " 2   Difficulty Level    3522 non-null   object\n",
      " 3   Course Rating       3522 non-null   object\n",
      " 4   Course URL          3522 non-null   object\n",
      " 5   Course Description  3522 non-null   object\n",
      " 6   Skills              3522 non-null   object\n",
      "dtypes: object(7)\n",
      "memory usage: 192.7+ KB\n"
     ]
    }
   ],
   "source": [
    "dataset.info()"
   ]
  },
  {
   "cell_type": "code",
   "execution_count": 6,
   "metadata": {
    "execution": {
     "iopub.execute_input": "2023-08-29T15:45:17.014502Z",
     "iopub.status.busy": "2023-08-29T15:45:17.014032Z",
     "iopub.status.idle": "2023-08-29T15:45:17.900187Z",
     "shell.execute_reply": "2023-08-29T15:45:17.898941Z",
     "shell.execute_reply.started": "2023-08-29T15:45:17.014466Z"
    }
   },
   "outputs": [
    {
     "data": {
      "text/plain": [
       "(3522, 20074)"
      ]
     },
     "execution_count": 6,
     "metadata": {},
     "output_type": "execute_result"
    }
   ],
   "source": [
    "tfidf = TfidfVectorizer(stop_words='english')\n",
    "dataset['Course Description'] = dataset['Course Description'].fillna('')\n",
    "#Construct the required TF-IDF matrix by applying the fit_transform method on the overview feature\n",
    "overview_matrix = tfidf.fit_transform(dataset['Course Description'])\n",
    "#Output the shape of tfidf_matrix\n",
    "overview_matrix.shape\n"
   ]
  },
  {
   "cell_type": "code",
   "execution_count": 7,
   "metadata": {
    "execution": {
     "iopub.execute_input": "2023-08-29T15:46:19.016382Z",
     "iopub.status.busy": "2023-08-29T15:46:19.015943Z",
     "iopub.status.idle": "2023-08-29T15:46:19.997508Z",
     "shell.execute_reply": "2023-08-29T15:46:19.996056Z",
     "shell.execute_reply.started": "2023-08-29T15:46:19.016351Z"
    }
   },
   "outputs": [
    {
     "data": {
      "text/plain": [
       "array([[1.00000000e+00, 3.12366523e-02, 1.97603991e-02, ...,\n",
       "        3.17538002e-02, 3.33859933e-02, 1.96231367e-02],\n",
       "       [3.12366523e-02, 1.00000000e+00, 8.58915185e-03, ...,\n",
       "        3.13671991e-02, 4.88239107e-03, 4.56033552e-02],\n",
       "       [1.97603991e-02, 8.58915185e-03, 1.00000000e+00, ...,\n",
       "        3.45669421e-03, 1.65197252e-02, 6.37237740e-03],\n",
       "       ...,\n",
       "       [3.17538002e-02, 3.13671991e-02, 3.45669421e-03, ...,\n",
       "        1.00000000e+00, 5.07544593e-04, 6.72367274e-03],\n",
       "       [3.33859933e-02, 4.88239107e-03, 1.65197252e-02, ...,\n",
       "        5.07544593e-04, 1.00000000e+00, 1.14068789e-03],\n",
       "       [1.96231367e-02, 4.56033552e-02, 6.37237740e-03, ...,\n",
       "        6.72367274e-03, 1.14068789e-03, 1.00000000e+00]])"
      ]
     },
     "execution_count": 7,
     "metadata": {},
     "output_type": "execute_result"
    }
   ],
   "source": [
    "similarity_matrix = linear_kernel(overview_matrix,overview_matrix)\n",
    "similarity_matrix"
   ]
  },
  {
   "cell_type": "code",
   "execution_count": 8,
   "metadata": {
    "execution": {
     "iopub.execute_input": "2023-08-29T15:47:32.580471Z",
     "iopub.status.busy": "2023-08-29T15:47:32.579957Z",
     "iopub.status.idle": "2023-08-29T15:47:32.600421Z",
     "shell.execute_reply": "2023-08-29T15:47:32.598961Z",
     "shell.execute_reply.started": "2023-08-29T15:47:32.580423Z"
    }
   },
   "outputs": [
    {
     "data": {
      "text/plain": [
       "Course Name\n",
       "Write A Feature Length Screenplay For Film Or Television                 0\n",
       "Business Strategy: Business Model Canvas Analysis with Miro              1\n",
       "Silicon Thin Film Solar Cells                                            2\n",
       "Finance for Managers                                                     3\n",
       "Retrieve Data using Single-Table SQL Queries                             4\n",
       "                                                                      ... \n",
       "Capstone: Retrieving, Processing, and Visualizing Data with Python    3517\n",
       "Patrick Henry: Forgotten Founder                                      3518\n",
       "Business intelligence and data analytics: Generate insights           3519\n",
       "Rigid Body Dynamics                                                   3520\n",
       "Architecting with Google Kubernetes Engine: Production                3521\n",
       "Length: 3522, dtype: int64"
      ]
     },
     "execution_count": 8,
     "metadata": {},
     "output_type": "execute_result"
    }
   ],
   "source": [
    "#index mapping\n",
    "mapping = pd.Series(dataset.index,index = dataset['Course Name'])\n",
    "mapping"
   ]
  },
  {
   "cell_type": "code",
   "execution_count": 9,
   "metadata": {
    "execution": {
     "iopub.execute_input": "2023-08-29T15:54:46.156443Z",
     "iopub.status.busy": "2023-08-29T15:54:46.155847Z",
     "iopub.status.idle": "2023-08-29T15:54:46.171660Z",
     "shell.execute_reply": "2023-08-29T15:54:46.170097Z",
     "shell.execute_reply.started": "2023-08-29T15:54:46.156394Z"
    }
   },
   "outputs": [],
   "source": [
    "def recommend_course(course_name):\n",
    "        Cname_index = mapping[course_name]\n",
    "        #get similarity values with other courses\n",
    "        #similarity_score is the list of index and similarity matrix\n",
    "        similarity_score = list(enumerate(similarity_matrix[Cname_index]))\n",
    "        #sort in descending order the similarity score of course name inputted with all the other courses\n",
    "        similarity_score = sorted(similarity_score, key=lambda x: x[1], reverse=True)\n",
    "        # Get the scores of the 10 most similar courses. Ignore the first course.\n",
    "        similarity_score = similarity_score[1:10]\n",
    "        #return course names using the mapping series\n",
    "        course_indices = [i[0] for i in similarity_score]\n",
    "        return (dataset['Course Name'].iloc[course_indices])"
   ]
  },
  {
   "cell_type": "code",
   "execution_count": 10,
   "metadata": {
    "execution": {
     "iopub.execute_input": "2023-08-29T15:54:51.289829Z",
     "iopub.status.busy": "2023-08-29T15:54:51.289217Z",
     "iopub.status.idle": "2023-08-29T15:54:51.309790Z",
     "shell.execute_reply": "2023-08-29T15:54:51.308107Z",
     "shell.execute_reply.started": "2023-08-29T15:54:51.289783Z"
    }
   },
   "outputs": [
    {
     "data": {
      "text/plain": [
       "1839    Fundamentals of financial and management accou...\n",
       "1891          Accounting and Finance for IT professionals\n",
       "1985                  Introduction to Finance: The Basics\n",
       "419                    Finance for Non-Financial Managers\n",
       "1164                         Corporate Finance Essentials\n",
       "708     Understanding Financial Statements: Company Po...\n",
       "1090                    Financial Accounting Fundamentals\n",
       "590                Corporate finance: Know your numbers 2\n",
       "3119    Introduction to Finance: The Role of Financial...\n",
       "Name: Course Name, dtype: object"
      ]
     },
     "execution_count": 10,
     "metadata": {},
     "output_type": "execute_result"
    }
   ],
   "source": [
    "recommend_course('Finance for Managers')"
   ]
  },
  {
   "cell_type": "code",
   "execution_count": 11,
   "metadata": {},
   "outputs": [
    {
     "data": {
      "text/plain": [
       "3119    Introduction to Finance: The Role of Financial...\n",
       "1985                  Introduction to Finance: The Basics\n",
       "419                    Finance for Non-Financial Managers\n",
       "646               Finance for Non-Financial Professionals\n",
       "2256    Principles of Corporate Finance �  A Tale of V...\n",
       "2082                Finance for Non-Finance Professionals\n",
       "1891          Accounting and Finance for IT professionals\n",
       "2829       Accounting: Principles of Financial Accounting\n",
       "1034                      Understanding Financial Markets\n",
       "Name: Course Name, dtype: object"
      ]
     },
     "execution_count": 11,
     "metadata": {},
     "output_type": "execute_result"
    }
   ],
   "source": [
    "recommend_course('Corporate Finance Essentials')"
   ]
  },
  {
   "cell_type": "code",
   "execution_count": null,
   "metadata": {},
   "outputs": [],
   "source": []
  }
 ],
 "metadata": {
  "kernelspec": {
   "display_name": "Python 3 (ipykernel)",
   "language": "python",
   "name": "python3"
  },
  "language_info": {
   "codemirror_mode": {
    "name": "ipython",
    "version": 3
   },
   "file_extension": ".py",
   "mimetype": "text/x-python",
   "name": "python",
   "nbconvert_exporter": "python",
   "pygments_lexer": "ipython3",
   "version": "3.10.9"
  }
 },
 "nbformat": 4,
 "nbformat_minor": 4
}
